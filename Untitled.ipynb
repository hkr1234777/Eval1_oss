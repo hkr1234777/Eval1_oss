{
 "cells": [
  {
   "cell_type": "code",
   "execution_count": 17,
   "id": "01777ec4",
   "metadata": {},
   "outputs": [
    {
     "name": "stdout",
     "output_type": "stream",
     "text": [
      "hardik\n"
     ]
    }
   ],
   "source": [
    "stu={\"stu1\":{\"name\":\"hardik\",\"id\":1,\"class\":10,\"grade\":[\"A\",\"A\",\"A\"]}}\n",
    "print(stu[\"stu1\"][\"name\"])\n"
   ]
  },
  {
   "cell_type": "code",
   "execution_count": 25,
   "id": "c920dba3",
   "metadata": {},
   "outputs": [
    {
     "name": "stdout",
     "output_type": "stream",
     "text": [
      "{'stu1': {'name': 'hardik', 'id': 1, 'class': 10, 'grade': ['A', 'A', 'A']}, 's': '', 's1': {'name': 'ram', 'id': 2, 'class': 10, 'grade': ['A', 'B', 'C']}}\n"
     ]
    }
   ],
   "source": [
    "def add(TITLE,NAME,ID,CLASS,GRADE):\n",
    "    s={\"name\":NAME,\"id\":ID,\"class\":CLASS,\"grade\":GRADE}\n",
    "    stu[TITLE]=s\n",
    "    return\n",
    "add(\"s1\",\"ram\",2,10,[\"A\",\"B\",\"C\"])\n",
    "print(stu)"
   ]
  },
  {
   "cell_type": "code",
   "execution_count": 27,
   "id": "87aa8654",
   "metadata": {},
   "outputs": [
    {
     "name": "stdout",
     "output_type": "stream",
     "text": [
      "{'stu1': {'name': 'rohan', 'id': 1, 'class': 10, 'grade': ['A', 'A', 'A']}, 's': '', 's1': {'name': 'ram', 'id': 2, 'class': 10, 'grade': ['A', 'B', 'C']}}\n"
     ]
    }
   ],
   "source": [
    "def update(para_a,para_b,new):\n",
    "    stu[para_a][para_b]=new\n",
    "    return\n",
    "update(\"stu1\",\"name\",\"rohan\")\n",
    "print(stu)"
   ]
  },
  {
   "cell_type": "code",
   "execution_count": null,
   "id": "c90f4948",
   "metadata": {},
   "outputs": [],
   "source": [
    "def avg()"
   ]
  }
 ],
 "metadata": {
  "kernelspec": {
   "display_name": "Python 3 (ipykernel)",
   "language": "python",
   "name": "python3"
  },
  "language_info": {
   "codemirror_mode": {
    "name": "ipython",
    "version": 3
   },
   "file_extension": ".py",
   "mimetype": "text/x-python",
   "name": "python",
   "nbconvert_exporter": "python",
   "pygments_lexer": "ipython3",
   "version": "3.11.5"
  }
 },
 "nbformat": 4,
 "nbformat_minor": 5
}
